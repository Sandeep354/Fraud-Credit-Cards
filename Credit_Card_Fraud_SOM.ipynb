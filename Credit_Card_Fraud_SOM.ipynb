{
  "nbformat": 4,
  "nbformat_minor": 0,
  "metadata": {
    "colab": {
      "name": "Credit_Card_Fraud-SOM.ipynb",
      "provenance": [],
      "collapsed_sections": [],
      "toc_visible": true,
      "authorship_tag": "ABX9TyPhGzSffTV2oprmZPMFe1q4",
      "include_colab_link": true
    },
    "kernelspec": {
      "name": "python3",
      "display_name": "Python 3"
    }
  },
  "cells": [
    {
      "cell_type": "markdown",
      "metadata": {
        "id": "view-in-github",
        "colab_type": "text"
      },
      "source": [
        "<a href=\"https://colab.research.google.com/github/Sandeep354/Fraud-Credit-Cards/blob/main/Credit_Card_Fraud_SOM.ipynb\" target=\"_parent\"><img src=\"https://colab.research.google.com/assets/colab-badge.svg\" alt=\"Open In Colab\"/></a>"
      ]
    },
    {
      "cell_type": "markdown",
      "metadata": {
        "id": "lk-7AqXsnM4T"
      },
      "source": [
        "# Self-Organizing-Maps (Unsupervised Deep Learning)\n",
        "\n",
        "## **Find Fraudulent customers**"
      ]
    },
    {
      "cell_type": "code",
      "metadata": {
        "id": "YrwUT2n4nSLB"
      },
      "source": [
        "# Importing the libraries\n",
        "import numpy as np\n",
        "import pandas as pd\n",
        "import matplotlib.pyplot as plt"
      ],
      "execution_count": 95,
      "outputs": []
    },
    {
      "cell_type": "code",
      "metadata": {
        "id": "nBIMK4bmnZ0n"
      },
      "source": [
        "# Importing the dataset\n",
        "dataset = pd.read_csv(\"Credit_Card_Applications.csv\")"
      ],
      "execution_count": 96,
      "outputs": []
    },
    {
      "cell_type": "code",
      "metadata": {
        "id": "d8TpVKHuqea8",
        "outputId": "2fa88371-b5ef-4f0d-ab27-1cb025510061",
        "colab": {
          "base_uri": "https://localhost:8080/",
          "height": 202
        }
      },
      "source": [
        "dataset.head()"
      ],
      "execution_count": 97,
      "outputs": [
        {
          "output_type": "execute_result",
          "data": {
            "text/html": [
              "<div>\n",
              "<style scoped>\n",
              "    .dataframe tbody tr th:only-of-type {\n",
              "        vertical-align: middle;\n",
              "    }\n",
              "\n",
              "    .dataframe tbody tr th {\n",
              "        vertical-align: top;\n",
              "    }\n",
              "\n",
              "    .dataframe thead th {\n",
              "        text-align: right;\n",
              "    }\n",
              "</style>\n",
              "<table border=\"1\" class=\"dataframe\">\n",
              "  <thead>\n",
              "    <tr style=\"text-align: right;\">\n",
              "      <th></th>\n",
              "      <th>CustomerID</th>\n",
              "      <th>A1</th>\n",
              "      <th>A2</th>\n",
              "      <th>A3</th>\n",
              "      <th>A4</th>\n",
              "      <th>A5</th>\n",
              "      <th>A6</th>\n",
              "      <th>A7</th>\n",
              "      <th>A8</th>\n",
              "      <th>A9</th>\n",
              "      <th>A10</th>\n",
              "      <th>A11</th>\n",
              "      <th>A12</th>\n",
              "      <th>A13</th>\n",
              "      <th>A14</th>\n",
              "      <th>Class</th>\n",
              "    </tr>\n",
              "  </thead>\n",
              "  <tbody>\n",
              "    <tr>\n",
              "      <th>0</th>\n",
              "      <td>15776156</td>\n",
              "      <td>1</td>\n",
              "      <td>22.08</td>\n",
              "      <td>11.46</td>\n",
              "      <td>2</td>\n",
              "      <td>4</td>\n",
              "      <td>4</td>\n",
              "      <td>1.585</td>\n",
              "      <td>0</td>\n",
              "      <td>0</td>\n",
              "      <td>0</td>\n",
              "      <td>1</td>\n",
              "      <td>2</td>\n",
              "      <td>100</td>\n",
              "      <td>1213</td>\n",
              "      <td>0</td>\n",
              "    </tr>\n",
              "    <tr>\n",
              "      <th>1</th>\n",
              "      <td>15739548</td>\n",
              "      <td>0</td>\n",
              "      <td>22.67</td>\n",
              "      <td>7.00</td>\n",
              "      <td>2</td>\n",
              "      <td>8</td>\n",
              "      <td>4</td>\n",
              "      <td>0.165</td>\n",
              "      <td>0</td>\n",
              "      <td>0</td>\n",
              "      <td>0</td>\n",
              "      <td>0</td>\n",
              "      <td>2</td>\n",
              "      <td>160</td>\n",
              "      <td>1</td>\n",
              "      <td>0</td>\n",
              "    </tr>\n",
              "    <tr>\n",
              "      <th>2</th>\n",
              "      <td>15662854</td>\n",
              "      <td>0</td>\n",
              "      <td>29.58</td>\n",
              "      <td>1.75</td>\n",
              "      <td>1</td>\n",
              "      <td>4</td>\n",
              "      <td>4</td>\n",
              "      <td>1.250</td>\n",
              "      <td>0</td>\n",
              "      <td>0</td>\n",
              "      <td>0</td>\n",
              "      <td>1</td>\n",
              "      <td>2</td>\n",
              "      <td>280</td>\n",
              "      <td>1</td>\n",
              "      <td>0</td>\n",
              "    </tr>\n",
              "    <tr>\n",
              "      <th>3</th>\n",
              "      <td>15687688</td>\n",
              "      <td>0</td>\n",
              "      <td>21.67</td>\n",
              "      <td>11.50</td>\n",
              "      <td>1</td>\n",
              "      <td>5</td>\n",
              "      <td>3</td>\n",
              "      <td>0.000</td>\n",
              "      <td>1</td>\n",
              "      <td>1</td>\n",
              "      <td>11</td>\n",
              "      <td>1</td>\n",
              "      <td>2</td>\n",
              "      <td>0</td>\n",
              "      <td>1</td>\n",
              "      <td>1</td>\n",
              "    </tr>\n",
              "    <tr>\n",
              "      <th>4</th>\n",
              "      <td>15715750</td>\n",
              "      <td>1</td>\n",
              "      <td>20.17</td>\n",
              "      <td>8.17</td>\n",
              "      <td>2</td>\n",
              "      <td>6</td>\n",
              "      <td>4</td>\n",
              "      <td>1.960</td>\n",
              "      <td>1</td>\n",
              "      <td>1</td>\n",
              "      <td>14</td>\n",
              "      <td>0</td>\n",
              "      <td>2</td>\n",
              "      <td>60</td>\n",
              "      <td>159</td>\n",
              "      <td>1</td>\n",
              "    </tr>\n",
              "  </tbody>\n",
              "</table>\n",
              "</div>"
            ],
            "text/plain": [
              "   CustomerID  A1     A2     A3  A4  A5  ...  A10  A11  A12  A13   A14  Class\n",
              "0    15776156   1  22.08  11.46   2   4  ...    0    1    2  100  1213      0\n",
              "1    15739548   0  22.67   7.00   2   8  ...    0    0    2  160     1      0\n",
              "2    15662854   0  29.58   1.75   1   4  ...    0    1    2  280     1      0\n",
              "3    15687688   0  21.67  11.50   1   5  ...   11    1    2    0     1      1\n",
              "4    15715750   1  20.17   8.17   2   6  ...   14    0    2   60   159      1\n",
              "\n",
              "[5 rows x 16 columns]"
            ]
          },
          "metadata": {
            "tags": []
          },
          "execution_count": 97
        }
      ]
    },
    {
      "cell_type": "code",
      "metadata": {
        "id": "2ow4BNnIoUxc"
      },
      "source": [
        "X = dataset.iloc[:, :-1].values\n",
        "y = dataset.iloc[:, -1].values"
      ],
      "execution_count": 98,
      "outputs": []
    },
    {
      "cell_type": "code",
      "metadata": {
        "id": "dGF82Sq9qkoK",
        "outputId": "90f3cd78-617f-423a-d942-92563060d5d6",
        "colab": {
          "base_uri": "https://localhost:8080/",
          "height": 35
        }
      },
      "source": [
        "X.shape, y.shape"
      ],
      "execution_count": 99,
      "outputs": [
        {
          "output_type": "execute_result",
          "data": {
            "text/plain": [
              "((690, 15), (690,))"
            ]
          },
          "metadata": {
            "tags": []
          },
          "execution_count": 99
        }
      ]
    },
    {
      "cell_type": "markdown",
      "metadata": {
        "id": "gIsSviPgqnAM"
      },
      "source": [
        "### Here, we dont use `y`. Instead, SOM will detect via X itself (because we are dealing with `UNSUPERVISED-LEARNING`). And y is just to see how much of it is predicted correctly in the end."
      ]
    },
    {
      "cell_type": "code",
      "metadata": {
        "id": "elwiQcwxrD48"
      },
      "source": [
        "# Feature-Scaling\n",
        "from sklearn.preprocessing import MinMaxScaler\n",
        "sc = MinMaxScaler(feature_range=(0,1))\n",
        "X = sc.fit_transform(X)"
      ],
      "execution_count": 100,
      "outputs": []
    },
    {
      "cell_type": "markdown",
      "metadata": {
        "id": "aVHfx7VRufn4"
      },
      "source": [
        "Get minisom.py from this link - https://github.com/JustGlowing/minisom/blob/master/minisom.py"
      ]
    },
    {
      "cell_type": "code",
      "metadata": {
        "id": "PmMMcuJNroHm"
      },
      "source": [
        "# Training the SOM\n",
        "\n",
        "# We will use minisom.py or install it --> developed by some developer\n",
        "from minisom import MiniSom"
      ],
      "execution_count": 101,
      "outputs": []
    },
    {
      "cell_type": "code",
      "metadata": {
        "id": "GO0RErcHtYYg"
      },
      "source": [
        "# x,y --> grid shape\n",
        "# input_len --> no.of features in the X dataset\n",
        "# sigma --> radius of different neighbourhoods in the grid\n",
        "som = MiniSom(x=10, y=10, input_len=15, sigma=1.0, learning_rate=0.5)"
      ],
      "execution_count": 102,
      "outputs": []
    },
    {
      "cell_type": "code",
      "metadata": {
        "id": "wG8O8Thmv2_u",
        "outputId": "19493ed7-0bcd-4082-b5f9-2706f3e06150",
        "colab": {
          "base_uri": "https://localhost:8080/",
          "height": 35
        }
      },
      "source": [
        "som.topology"
      ],
      "execution_count": 103,
      "outputs": [
        {
          "output_type": "execute_result",
          "data": {
            "application/vnd.google.colaboratory.intrinsic+json": {
              "type": "string"
            },
            "text/plain": [
              "'rectangular'"
            ]
          },
          "metadata": {
            "tags": []
          },
          "execution_count": 103
        }
      ]
    },
    {
      "cell_type": "code",
      "metadata": {
        "id": "nuV-YGHwv486"
      },
      "source": [
        "# Initialize the weights (STEP 3)\n",
        "som.random_weights_init(data=X)\n",
        "\n",
        "# Train the som on X (STEP 4 to STEP 9) (we will do step 4 - 9 100 times)\n",
        "som.train_random(data=X, num_iteration=100)"
      ],
      "execution_count": 104,
      "outputs": []
    },
    {
      "cell_type": "markdown",
      "metadata": {
        "id": "hQwM5O9P6d7u"
      },
      "source": [
        "**Following codes have to be combined together in 1 cell to get the correct graph**"
      ]
    },
    {
      "cell_type": "code",
      "metadata": {
        "id": "LXGEwlIwwkXZ"
      },
      "source": [
        "# Visualizing the results\n",
        "from pylab import bone, pcolor, colorbar, plot, show"
      ],
      "execution_count": 105,
      "outputs": []
    },
    {
      "cell_type": "code",
      "metadata": {
        "id": "9M-ekxGaxWyF",
        "outputId": "dde29492-b263-4b5b-8bb5-5e0046cb90dd",
        "colab": {
          "base_uri": "https://localhost:8080/",
          "height": 35
        }
      },
      "source": [
        "# Initialize the figure\n",
        "bone()"
      ],
      "execution_count": 106,
      "outputs": [
        {
          "output_type": "display_data",
          "data": {
            "text/plain": [
              "<Figure size 432x288 with 0 Axes>"
            ]
          },
          "metadata": {
            "tags": []
          }
        }
      ]
    },
    {
      "cell_type": "code",
      "metadata": {
        "id": "Bn10AJq10rYd",
        "outputId": "dfe1cd70-6dd6-41d7-bf6d-5db6ad510036",
        "colab": {
          "base_uri": "https://localhost:8080/",
          "height": 287
        }
      },
      "source": [
        "# distance_map returns Mean InterNeuron Distances in matrix representation\n",
        "pcolor(som.distance_map().T)\n",
        "colorbar()"
      ],
      "execution_count": 107,
      "outputs": [
        {
          "output_type": "execute_result",
          "data": {
            "text/plain": [
              "<matplotlib.colorbar.Colorbar at 0x7fe71dde7e10>"
            ]
          },
          "metadata": {
            "tags": []
          },
          "execution_count": 107
        },
        {
          "output_type": "display_data",
          "data": {
            "image/png": "[encoded data removed]",
            "text/plain": [
              "<Figure size 432x288 with 2 Axes>"
            ]
          },
          "metadata": {
            "tags": [],
            "needs_background": "light"
          }
        }
      ]
    },
    {
      "cell_type": "code",
      "metadata": {
        "id": "4D20bgTp1ZuK"
      },
      "source": [
        "markers = ['o', 's'] # o-circle, s-square\n",
        "color = ['r', 'g'] # r-red, g-green"
      ],
      "execution_count": 108,
      "outputs": []
    },
    {
      "cell_type": "code",
      "metadata": {
        "id": "bGysDBK821ZW",
        "outputId": "5d7946b2-d2e3-44d2-867f-44b983fa37eb",
        "colab": {
          "base_uri": "https://localhost:8080/",
          "height": 265
        }
      },
      "source": [
        "# i - diff. value of all the index of customer database (0-689)\n",
        "# x - diff vectors\n",
        "for i, x in enumerate(X):\n",
        "  # Get the winning node for the 1st customer\n",
        "  w = som.winner(x=x)\n",
        "  # on this winning node, place the colored marker (+0.5 to put marker on the centre of the winning node)\n",
        "  plot(w[0] + 0.5,\n",
        "       w[1] + 0.5,\n",
        "       markers[y[i]],\n",
        "       markeredgecolor = color[y[i]],\n",
        "       markerfacecolor = 'None',\n",
        "       markersize = 10,\n",
        "       markeredgewidth = 2)\n",
        "  \n",
        "show()"
      ],
      "execution_count": 109,
      "outputs": [
        {
          "output_type": "display_data",
          "data": {
            "image/png": "[encoded data removed]",
            "text/plain": [
              "<Figure size 432x288 with 1 Axes>"
            ]
          },
          "metadata": {
            "tags": [],
            "needs_background": "light"
          }
        }
      ]
    },
    {
      "cell_type": "markdown",
      "metadata": {
        "id": "PLr0k1hn5eHk"
      },
      "source": [
        "**Put all the code together in one cell**"
      ]
    },
    {
      "cell_type": "code",
      "metadata": {
        "id": "IaItT6dt5n77",
        "outputId": "99a1dc73-abf6-49f5-c509-c0f7cebb16bb",
        "colab": {
          "base_uri": "https://localhost:8080/",
          "height": 269
        }
      },
      "source": [
        "bone()\n",
        "pcolor(som.distance_map().T)\n",
        "colorbar()\n",
        "\n",
        "markers = ['o', 's'] # o-circle, s-square\n",
        "color = ['r', 'g'] # r-red, g-green\n",
        "\n",
        "for i, x in enumerate(X):\n",
        "  # Get the winning node for the 1st customer\n",
        "  w = som.winner(x=x)\n",
        "  # on this winning node, place the colored marker (+0.5 to put marker on the centre of the winning node)\n",
        "  plot(w[0] + 0.5,\n",
        "       w[1] + 0.5,\n",
        "       markers[y[i]],\n",
        "       markeredgecolor = color[y[i]],\n",
        "       markerfacecolor = 'None',\n",
        "       markersize = 10,\n",
        "       markeredgewidth = 2)\n",
        "  \n",
        "show()"
      ],
      "execution_count": 110,
      "outputs": [
        {
          "output_type": "display_data",
          "data": {
            "image/png": "[encoded data removed]",
            "text/plain": [
              "<Figure size 432x288 with 2 Axes>"
            ]
          },
          "metadata": {
            "tags": [],
            "needs_background": "light"
          }
        }
      ]
    },
    {
      "cell_type": "code",
      "metadata": {
        "id": "0kEMC-YU5xuS"
      },
      "source": [
        "# Finding the frauds\n",
        "mappings = som.win_map(data=X)"
      ],
      "execution_count": 120,
      "outputs": []
    },
    {
      "cell_type": "code",
      "metadata": {
        "id": "0ofvlyRjHIs3",
        "outputId": "a9782f24-38de-4079-a597-399864ef5a33",
        "colab": {
          "base_uri": "https://localhost:8080/",
          "height": 537
        }
      },
      "source": [
        "mappings[(2,3)]"
      ],
      "execution_count": 130,
      "outputs": [
        {
          "output_type": "execute_result",
          "data": {
            "text/plain": [
              "[array([0.75232352, 1.        , 0.19548872, 0.04017857, 0.5       ,\n",
              "        1.        , 0.875     , 0.04385965, 1.        , 0.        ,\n",
              "        0.        , 0.        , 0.5       , 0.        , 0.05298   ]),\n",
              " array([0.80274618, 0.        , 0.16165414, 0.01785714, 0.5       ,\n",
              "        0.76923077, 0.875     , 0.05263158, 1.        , 0.        ,\n",
              "        0.        , 0.        , 0.5       , 0.14      , 0.00824   ]),\n",
              " array([0.92713301, 1.        , 0.14541353, 0.02089286, 0.5       ,\n",
              "        0.53846154, 0.875     , 0.00298246, 1.        , 0.        ,\n",
              "        0.        , 0.        , 0.5       , 0.09      , 0.        ]),\n",
              " array([0.82735685, 0.        , 0.21548872, 0.53571429, 0.        ,\n",
              "        0.69230769, 1.        , 0.        , 1.        , 0.        ,\n",
              "        0.        , 0.        , 0.5       , 0.        , 0.13212   ]),\n",
              " array([0.6764733 , 0.        , 0.40721805, 0.35714286, 0.5       ,\n",
              "        0.76923077, 0.875     , 0.06140351, 1.        , 0.        ,\n",
              "        0.        , 0.        , 0.5       , 0.0145    , 0.00837   ]),\n",
              " array([0.32182085, 0.        , 0.07639098, 0.15767857, 0.        ,\n",
              "        0.53846154, 0.875     , 0.10526316, 1.        , 0.        ,\n",
              "        0.        , 0.        , 0.5       , 0.12      , 0.        ]),\n",
              " array([0.60831942, 0.        , 0.17172932, 0.10267857, 0.5       ,\n",
              "        1.        , 0.875     , 0.03070175, 1.        , 0.        ,\n",
              "        0.        , 0.        , 0.5       , 0.18      , 0.        ]),\n",
              " array([0.59987026, 1.        , 0.24315789, 0.06553571, 0.5       ,\n",
              "        0.53846154, 0.875     , 0.15210526, 1.        , 0.        ,\n",
              "        0.        , 0.        , 0.5       , 0.13      , 0.002     ]),\n",
              " array([0.76719964, 1.        , 0.14406015, 0.05357143, 0.5       ,\n",
              "        0.53846154, 0.875     , 0.04964912, 1.        , 0.        ,\n",
              "        0.        , 0.        , 0.5       , 0.211     , 0.002     ]),\n",
              " array([0.91371847, 0.        , 0.2206015 , 0.125     , 0.5       ,\n",
              "        0.61538462, 0.375     , 0.02929825, 1.        , 0.        ,\n",
              "        0.        , 0.        , 0.        , 0.14      , 0.        ])]"
            ]
          },
          "metadata": {
            "tags": []
          },
          "execution_count": 130
        }
      ]
    },
    {
      "cell_type": "code",
      "metadata": {
        "id": "gi8bq-kT8RgU"
      },
      "source": [
        "# Get the winning node coordinates (fraudulent)\n",
        "# Take the cordinates from the map (7,3), (3,3), (2,3)\n",
        "frauds = np.concatenate((mappings[(7,3)], mappings[(2,3)]), axis=0)\n",
        "frauds = sc.inverse_transform(frauds)"
      ],
      "execution_count": 131,
      "outputs": []
    },
    {
      "cell_type": "code",
      "metadata": {
        "id": "EMTLQkj58TNU",
        "outputId": "94b49919-7a0a-40b9-8159-1871d34550f5",
        "colab": {
          "base_uri": "https://localhost:8080/",
          "height": 1000
        }
      },
      "source": [
        "frauds"
      ],
      "execution_count": 132,
      "outputs": [
        {
          "output_type": "execute_result",
          "data": {
            "text/plain": [
              "array([[1.5767264e+07, 1.0000000e+00, 7.4830000e+01, 1.9000000e+01,\n",
              "        1.0000000e+00, 1.0000000e+00, 1.0000000e+00, 4.0000000e-02,\n",
              "        0.0000000e+00, 1.0000000e+00, 2.0000000e+00, 0.0000000e+00,\n",
              "        2.0000000e+00, 0.0000000e+00, 3.5200000e+02],\n",
              "       [1.5704581e+07, 1.0000000e+00, 2.3750000e+01, 4.1500000e-01,\n",
              "        1.0000000e+00, 8.0000000e+00, 4.0000000e+00, 4.0000000e-02,\n",
              "        0.0000000e+00, 1.0000000e+00, 2.0000000e+00, 0.0000000e+00,\n",
              "        2.0000000e+00, 1.2800000e+02, 7.0000000e+00],\n",
              "       [1.5761854e+07, 1.0000000e+00, 3.1250000e+01, 2.8350000e+00,\n",
              "        2.0000000e+00, 1.0000000e+00, 1.0000000e+00, 0.0000000e+00,\n",
              "        0.0000000e+00, 1.0000000e+00, 5.0000000e+00, 0.0000000e+00,\n",
              "        2.0000000e+00, 1.7600000e+02, 1.4700000e+02],\n",
              "       [1.5725776e+07, 1.0000000e+00, 2.3080000e+01, 0.0000000e+00,\n",
              "        2.0000000e+00, 4.0000000e+00, 4.0000000e+00, 1.0000000e+00,\n",
              "        0.0000000e+00, 1.0000000e+00, 1.1000000e+01, 0.0000000e+00,\n",
              "        1.0000000e+00, 0.0000000e+00, 1.0000000e+00],\n",
              "       [1.5815040e+07, 1.0000000e+00, 1.9000000e+01, 0.0000000e+00,\n",
              "        1.0000000e+00, 1.0000000e+00, 1.0000000e+00, 0.0000000e+00,\n",
              "        0.0000000e+00, 1.0000000e+00, 4.0000000e+00, 0.0000000e+00,\n",
              "        2.0000000e+00, 4.5000000e+01, 2.0000000e+00],\n",
              "       [1.5697460e+07, 1.0000000e+00, 2.2000000e+01, 7.9000000e-01,\n",
              "        2.0000000e+00, 9.0000000e+00, 4.0000000e+00, 2.9000000e-01,\n",
              "        0.0000000e+00, 1.0000000e+00, 1.0000000e+00, 0.0000000e+00,\n",
              "        2.0000000e+00, 4.2000000e+02, 2.8400000e+02],\n",
              "       [1.5788442e+07, 1.0000000e+00, 1.9580000e+01, 5.8500000e-01,\n",
              "        2.0000000e+00, 1.0000000e+00, 1.0000000e+00, 0.0000000e+00,\n",
              "        0.0000000e+00, 1.0000000e+00, 3.0000000e+00, 0.0000000e+00,\n",
              "        2.0000000e+00, 3.5000000e+02, 7.7000000e+02],\n",
              "       [1.5737998e+07, 1.0000000e+00, 1.8830000e+01, 4.1500000e-01,\n",
              "        1.0000000e+00, 8.0000000e+00, 4.0000000e+00, 1.6500000e-01,\n",
              "        0.0000000e+00, 1.0000000e+00, 1.0000000e+00, 0.0000000e+00,\n",
              "        2.0000000e+00, 2.0000000e+02, 2.0000000e+00],\n",
              "       [1.5586183e+07, 1.0000000e+00, 1.7080000e+01, 2.5000000e-01,\n",
              "        2.0000000e+00, 1.1000000e+01, 4.0000000e+00, 3.3500000e-01,\n",
              "        0.0000000e+00, 1.0000000e+00, 4.0000000e+00, 0.0000000e+00,\n",
              "        2.0000000e+00, 1.6000000e+02, 9.0000000e+00],\n",
              "       [1.5718921e+07, 1.0000000e+00, 1.6330000e+01, 2.7500000e+00,\n",
              "        2.0000000e+00, 6.0000000e+00, 4.0000000e+00, 6.6500000e-01,\n",
              "        0.0000000e+00, 1.0000000e+00, 1.0000000e+00, 0.0000000e+00,\n",
              "        2.0000000e+00, 8.0000000e+01, 2.2000000e+01],\n",
              "       [1.5633944e+07, 1.0000000e+00, 3.1250000e+01, 1.1250000e+00,\n",
              "        2.0000000e+00, 1.0000000e+00, 1.0000000e+00, 0.0000000e+00,\n",
              "        0.0000000e+00, 1.0000000e+00, 1.0000000e+00, 0.0000000e+00,\n",
              "        2.0000000e+00, 9.6000000e+01, 2.0000000e+01],\n",
              "       [1.5607988e+07, 1.0000000e+00, 3.8420000e+01, 7.0500000e-01,\n",
              "        2.0000000e+00, 8.0000000e+00, 4.0000000e+00, 3.7500000e-01,\n",
              "        0.0000000e+00, 1.0000000e+00, 2.0000000e+00, 0.0000000e+00,\n",
              "        2.0000000e+00, 2.2500000e+02, 5.0100000e+02],\n",
              "       [1.5801072e+07, 1.0000000e+00, 3.9580000e+01, 5.0000000e+00,\n",
              "        2.0000000e+00, 1.0000000e+00, 1.0000000e+00, 0.0000000e+00,\n",
              "        0.0000000e+00, 1.0000000e+00, 2.0000000e+00, 0.0000000e+00,\n",
              "        2.0000000e+00, 1.7000000e+01, 2.0000000e+00],\n",
              "       [1.5683993e+07, 1.0000000e+00, 1.6000000e+01, 3.1250000e+00,\n",
              "        2.0000000e+00, 9.0000000e+00, 4.0000000e+00, 8.5000000e-02,\n",
              "        0.0000000e+00, 1.0000000e+00, 1.0000000e+00, 0.0000000e+00,\n",
              "        2.0000000e+00, 0.0000000e+00, 7.0000000e+00],\n",
              "       [1.5797767e+07, 1.0000000e+00, 2.5170000e+01, 3.0000000e+00,\n",
              "        2.0000000e+00, 8.0000000e+00, 4.0000000e+00, 1.2500000e+00,\n",
              "        0.0000000e+00, 1.0000000e+00, 1.0000000e+00, 0.0000000e+00,\n",
              "        2.0000000e+00, 0.0000000e+00, 2.3000000e+01],\n",
              "       [1.5744044e+07, 1.0000000e+00, 2.3250000e+01, 1.2625000e+01,\n",
              "        2.0000000e+00, 8.0000000e+00, 4.0000000e+00, 1.2500000e-01,\n",
              "        0.0000000e+00, 1.0000000e+00, 2.0000000e+00, 0.0000000e+00,\n",
              "        2.0000000e+00, 0.0000000e+00, 5.5530000e+03],\n",
              "       [1.5632010e+07, 1.0000000e+00, 3.5750000e+01, 2.4150000e+00,\n",
              "        2.0000000e+00, 9.0000000e+00, 4.0000000e+00, 1.2500000e-01,\n",
              "        0.0000000e+00, 1.0000000e+00, 2.0000000e+00, 0.0000000e+00,\n",
              "        2.0000000e+00, 2.2000000e+02, 2.0000000e+00],\n",
              "       [1.5804235e+07, 1.0000000e+00, 2.9500000e+01, 5.8000000e-01,\n",
              "        2.0000000e+00, 9.0000000e+00, 4.0000000e+00, 2.9000000e-01,\n",
              "        0.0000000e+00, 1.0000000e+00, 1.0000000e+00, 0.0000000e+00,\n",
              "        2.0000000e+00, 3.4000000e+02, 2.8040000e+03],\n",
              "       [1.5627365e+07, 1.0000000e+00, 2.4420000e+01, 2.0000000e+00,\n",
              "        2.0000000e+00, 1.0000000e+01, 2.0000000e+00, 1.6500000e-01,\n",
              "        0.0000000e+00, 1.0000000e+00, 2.0000000e+00, 0.0000000e+00,\n",
              "        2.0000000e+00, 3.2000000e+02, 1.3010000e+03],\n",
              "       [1.5573798e+07, 1.0000000e+00, 3.2250000e+01, 1.4000000e+01,\n",
              "        1.0000000e+00, 1.0000000e+00, 1.0000000e+00, 0.0000000e+00,\n",
              "        0.0000000e+00, 1.0000000e+00, 2.0000000e+00, 0.0000000e+00,\n",
              "        2.0000000e+00, 1.6000000e+02, 2.0000000e+00],\n",
              "       [1.5647295e+07, 1.0000000e+00, 6.9170000e+01, 9.0000000e+00,\n",
              "        2.0000000e+00, 1.0000000e+00, 1.0000000e+00, 4.0000000e+00,\n",
              "        0.0000000e+00, 1.0000000e+00, 1.0000000e+00, 0.0000000e+00,\n",
              "        2.0000000e+00, 7.0000000e+01, 7.0000000e+00],\n",
              "       [1.5791944e+07, 1.0000000e+00, 1.9420000e+01, 7.2500000e+00,\n",
              "        2.0000000e+00, 7.0000000e+00, 4.0000000e+00, 4.0000000e-02,\n",
              "        0.0000000e+00, 1.0000000e+00, 1.0000000e+00, 0.0000000e+00,\n",
              "        2.0000000e+00, 1.0000000e+02, 2.0000000e+00],\n",
              "       [1.5576680e+07, 1.0000000e+00, 2.4080000e+01, 8.7500000e-01,\n",
              "        2.0000000e+00, 7.0000000e+00, 4.0000000e+00, 8.5000000e-02,\n",
              "        0.0000000e+00, 1.0000000e+00, 4.0000000e+00, 0.0000000e+00,\n",
              "        2.0000000e+00, 2.5400000e+02, 1.9510000e+03],\n",
              "       [1.5620570e+07, 1.0000000e+00, 2.5420000e+01, 5.4000000e-01,\n",
              "        2.0000000e+00, 9.0000000e+00, 4.0000000e+00, 1.6500000e-01,\n",
              "        0.0000000e+00, 1.0000000e+00, 1.0000000e+00, 0.0000000e+00,\n",
              "        2.0000000e+00, 2.7200000e+02, 4.4500000e+02],\n",
              "       [1.5592412e+07, 1.0000000e+00, 4.1000000e+01, 4.0000000e-02,\n",
              "        2.0000000e+00, 1.0000000e+01, 4.0000000e+00, 4.0000000e-02,\n",
              "        0.0000000e+00, 1.0000000e+00, 1.0000000e+00, 0.0000000e+00,\n",
              "        1.0000000e+00, 5.6000000e+02, 1.0000000e+00],\n",
              "       [1.5753591e+07, 1.0000000e+00, 2.6750000e+01, 1.1250000e+00,\n",
              "        2.0000000e+00, 1.4000000e+01, 8.0000000e+00, 1.2500000e+00,\n",
              "        1.0000000e+00, 0.0000000e+00, 0.0000000e+00, 0.0000000e+00,\n",
              "        2.0000000e+00, 0.0000000e+00, 5.2990000e+03],\n",
              "       [1.5766183e+07, 0.0000000e+00, 2.4500000e+01, 5.0000000e-01,\n",
              "        2.0000000e+00, 1.1000000e+01, 8.0000000e+00, 1.5000000e+00,\n",
              "        1.0000000e+00, 0.0000000e+00, 0.0000000e+00, 0.0000000e+00,\n",
              "        2.0000000e+00, 2.8000000e+02, 8.2500000e+02],\n",
              "       [1.5797246e+07, 1.0000000e+00, 2.3420000e+01, 5.8500000e-01,\n",
              "        2.0000000e+00, 8.0000000e+00, 8.0000000e+00, 8.5000000e-02,\n",
              "        1.0000000e+00, 0.0000000e+00, 0.0000000e+00, 0.0000000e+00,\n",
              "        2.0000000e+00, 1.8000000e+02, 1.0000000e+00],\n",
              "       [1.5772329e+07, 0.0000000e+00, 2.8080000e+01, 1.5000000e+01,\n",
              "        1.0000000e+00, 1.0000000e+01, 9.0000000e+00, 0.0000000e+00,\n",
              "        1.0000000e+00, 0.0000000e+00, 0.0000000e+00, 0.0000000e+00,\n",
              "        2.0000000e+00, 0.0000000e+00, 1.3213000e+04],\n",
              "       [1.5734649e+07, 0.0000000e+00, 4.0830000e+01, 1.0000000e+01,\n",
              "        2.0000000e+00, 1.1000000e+01, 8.0000000e+00, 1.7500000e+00,\n",
              "        1.0000000e+00, 0.0000000e+00, 0.0000000e+00, 0.0000000e+00,\n",
              "        2.0000000e+00, 2.9000000e+01, 8.3800000e+02],\n",
              "       [1.5646082e+07, 0.0000000e+00, 1.8830000e+01, 4.4150000e+00,\n",
              "        1.0000000e+00, 8.0000000e+00, 8.0000000e+00, 3.0000000e+00,\n",
              "        1.0000000e+00, 0.0000000e+00, 0.0000000e+00, 0.0000000e+00,\n",
              "        2.0000000e+00, 2.4000000e+02, 1.0000000e+00],\n",
              "       [1.5717629e+07, 0.0000000e+00, 2.5170000e+01, 2.8750000e+00,\n",
              "        2.0000000e+00, 1.4000000e+01, 8.0000000e+00, 8.7500000e-01,\n",
              "        1.0000000e+00, 0.0000000e+00, 0.0000000e+00, 0.0000000e+00,\n",
              "        2.0000000e+00, 3.6000000e+02, 1.0000000e+00],\n",
              "       [1.5715519e+07, 1.0000000e+00, 2.9920000e+01, 1.8350000e+00,\n",
              "        2.0000000e+00, 8.0000000e+00, 8.0000000e+00, 4.3350000e+00,\n",
              "        1.0000000e+00, 0.0000000e+00, 0.0000000e+00, 0.0000000e+00,\n",
              "        2.0000000e+00, 2.6000000e+02, 2.0100000e+02],\n",
              "       [1.5757306e+07, 1.0000000e+00, 2.3330000e+01, 1.5000000e+00,\n",
              "        2.0000000e+00, 8.0000000e+00, 8.0000000e+00, 1.4150000e+00,\n",
              "        1.0000000e+00, 0.0000000e+00, 0.0000000e+00, 0.0000000e+00,\n",
              "        2.0000000e+00, 4.2200000e+02, 2.0100000e+02],\n",
              "       [1.5793896e+07, 0.0000000e+00, 2.8420000e+01, 3.5000000e+00,\n",
              "        2.0000000e+00, 9.0000000e+00, 4.0000000e+00, 8.3500000e-01,\n",
              "        1.0000000e+00, 0.0000000e+00, 0.0000000e+00, 0.0000000e+00,\n",
              "        1.0000000e+00, 2.8000000e+02, 1.0000000e+00]])"
            ]
          },
          "metadata": {
            "tags": []
          },
          "execution_count": 132
        }
      ]
    },
    {
      "cell_type": "code",
      "metadata": {
        "id": "86n-dKMZHXeB"
      },
      "source": [
        ""
      ],
      "execution_count": null,
      "outputs": []
    }
  ]
}
{
  "nbformat": 4,
  "nbformat_minor": 0,
  "metadata": {
    "colab": {
      "name": "Creditcard-Fraud-Probability.ipynb",
      "provenance": [],
      "collapsed_sections": [],
      "authorship_tag": "ABX9TyP8aX7tUoP6Pf0XioENOurz",
      "include_colab_link": true
    },
    "kernelspec": {
      "name": "python3",
      "display_name": "Python 3"
    }
  },
  "cells": [
    {
      "cell_type": "markdown",
      "metadata": {
        "id": "view-in-github",
        "colab_type": "text"
      },
      "source": [
        "<a href=\"https://colab.research.google.com/github/Sandeep354/Fraud-Credit-Cards/blob/main/Creditcard_Fraud_Probability.ipynb\" target=\"_parent\"><img src=\"https://colab.research.google.com/assets/colab-badge.svg\" alt=\"Open In Colab\"/></a>"
      ]
    },
    {
      "cell_type": "code",
      "metadata": {
        "id": "jtdtT7icTXc_"
      },
      "source": [
        "# Importing the libraries\n",
        "import numpy as np\n",
        "import pandas as pd\n",
        "import matplotlib.pyplot as plt"
      ],
      "execution_count": 29,
      "outputs": []
    },
    {
      "cell_type": "code",
      "metadata": {
        "id": "4p2DQHWNVaJm"
      },
      "source": [
        "dataset = pd.read_csv(\"Credit_Card_Applications.csv\")"
      ],
      "execution_count": 30,
      "outputs": []
    },
    {
      "cell_type": "code",
      "metadata": {
        "id": "qOtryR9uVcQY"
      },
      "source": [
        "X = dataset.iloc[:, :-1].values\n",
        "y = dataset.iloc[:, -1].values"
      ],
      "execution_count": 31,
      "outputs": []
    },
    {
      "cell_type": "code",
      "metadata": {
        "id": "N8EgXlGfVfIb"
      },
      "source": [
        "# Feature-Scaling\n",
        "from sklearn.preprocessing import MinMaxScaler\n",
        "sc = MinMaxScaler(feature_range=(0,1))\n",
        "X = sc.fit_transform(X)"
      ],
      "execution_count": 32,
      "outputs": []
    },
    {
      "cell_type": "code",
      "metadata": {
        "id": "qz0dlXXJVhSP"
      },
      "source": [
        "# Training the SOM\n",
        "\n",
        "# We will use minisom.py or install it --> developed by some developer\n",
        "from minisom import MiniSom"
      ],
      "execution_count": 33,
      "outputs": []
    },
    {
      "cell_type": "code",
      "metadata": {
        "id": "xTP0KomLVjF0"
      },
      "source": [
        "# x,y --> grid shape\n",
        "# input_len --> no.of features in the X dataset\n",
        "# sigma --> radius of different neighbourhoods in the grid\n",
        "som = MiniSom(x=10, y=10, input_len=15, sigma=1.0, learning_rate=0.5)"
      ],
      "execution_count": 34,
      "outputs": []
    },
    {
      "cell_type": "code",
      "metadata": {
        "id": "tudNIwwlVrJd"
      },
      "source": [
        "\n",
        "# Initialize the weights (STEP 3)\n",
        "som.random_weights_init(data=X)\n",
        "\n",
        "# Train the som on X (STEP 4 to STEP 9) (we will do step 4 - 9 100 times)\n",
        "som.train_random(data=X, num_iteration=100)"
      ],
      "execution_count": 35,
      "outputs": []
    },
    {
      "cell_type": "code",
      "metadata": {
        "id": "NcWD5KIZVt61",
        "outputId": "75ca9179-eecb-4bcb-de40-d6a3fa73bebe",
        "colab": {
          "base_uri": "https://localhost:8080/",
          "height": 269
        }
      },
      "source": [
        "# Visualizing\n",
        "\n",
        "from pylab import bone, pcolor, colorbar, plot, show\n",
        "\n",
        "bone()\n",
        "pcolor(som.distance_map().T)\n",
        "colorbar()\n",
        "\n",
        "markers = ['o', 's'] # o-circle, s-square\n",
        "color = ['r', 'g'] # r-red, g-green\n",
        "\n",
        "for i, x in enumerate(X):\n",
        "  # Get the winning node for the 1st customer\n",
        "  w = som.winner(x=x)\n",
        "  # on this winning node, place the colored marker (+0.5 to put marker on the centre of the winning node)\n",
        "  plot(w[0] + 0.5,\n",
        "       w[1] + 0.5,\n",
        "       markers[y[i]],\n",
        "       markeredgecolor = color[y[i]],\n",
        "       markerfacecolor = 'None',\n",
        "       markersize = 10,\n",
        "       markeredgewidth = 2)\n",
        "  \n",
        "show()"
      ],
      "execution_count": 36,
      "outputs": [
        {
          "output_type": "display_data",
          "data": {
            "image/png": "[encoded data removed]",
            "text/plain": [
              "<Figure size 432x288 with 2 Axes>"
            ]
          },
          "metadata": {
            "tags": [],
            "needs_background": "light"
          }
        }
      ]
    },
    {
      "cell_type": "code",
      "metadata": {
        "id": "Bx2SPnCaV1Ch"
      },
      "source": [
        "mappings = som.win_map(data=X)"
      ],
      "execution_count": 37,
      "outputs": []
    },
    {
      "cell_type": "code",
      "metadata": {
        "id": "pr2PkcimV3gH"
      },
      "source": [
        "# Pass some cordinates for reference\n",
        "frauds = np.concatenate((mappings[(8,7)], mappings[(5,2)]), axis=0)\n",
        "frauds = sc.inverse_transform(frauds)"
      ],
      "execution_count": 40,
      "outputs": []
    },
    {
      "cell_type": "code",
      "metadata": {
        "id": "4IaBi93MWM25",
        "outputId": "a9bff7b8-3ddc-44b6-d53b-e3a4b4dca487",
        "colab": {
          "base_uri": "https://localhost:8080/",
          "height": 35
        }
      },
      "source": [
        "print (f\"Number of frauds detected : {len(frauds)}\")"
      ],
      "execution_count": 41,
      "outputs": [
        {
          "output_type": "stream",
          "text": [
            "Number of frauds detected : 15\n"
          ],
          "name": "stdout"
        }
      ]
    },
    {
      "cell_type": "markdown",
      "metadata": {
        "id": "oApIjrIoXS4U"
      },
      "source": [
        "If you select very bright regions, more accurate but less possible frauds will be detected.\n",
        "\n",
        "On the other hand, less bright --> less accurate but more possible frauds will be detected."
      ]
    },
    {
      "cell_type": "markdown",
      "metadata": {
        "id": "VaX5p5ZJtRn4"
      },
      "source": [
        "## Part 2 - Going from Unsupervised to Supervised Deep Learning"
      ]
    },
    {
      "cell_type": "code",
      "metadata": {
        "id": "GhY8FkONte1P"
      },
      "source": [
        "# Create the matrix of features\n",
        "customers = dataset.iloc[:, 1:].values # we dont need customer ID"
      ],
      "execution_count": 43,
      "outputs": []
    },
    {
      "cell_type": "code",
      "metadata": {
        "id": "oPOab63huPn9"
      },
      "source": [
        "# Creating the dependent variable (fraud or not --> binary)\n",
        "is_fraud = np.zeros(shape=len(dataset))"
      ],
      "execution_count": 44,
      "outputs": []
    },
    {
      "cell_type": "code",
      "metadata": {
        "id": "u_FYIKWiu0RZ"
      },
      "source": [
        "# Now, put 1 where potentially customer id cheated\n",
        "for i in range(len(dataset)):\n",
        "  # ith line corresponds to ith customer and 0 --> customer id of customer number i\n",
        "  if dataset.iloc[i,0] in frauds:\n",
        "    is_fraud[i] = 1"
      ],
      "execution_count": 45,
      "outputs": []
    },
    {
      "cell_type": "markdown",
      "metadata": {
        "id": "QLB62ievwALR"
      },
      "source": [
        "**Train the ANN** "
      ]
    },
    {
      "cell_type": "code",
      "metadata": {
        "id": "Oi3MgGHYxj3A"
      },
      "source": [
        "# Feature Scaling\n",
        "customers = sc.fit_transform(customers)"
      ],
      "execution_count": 49,
      "outputs": []
    },
    {
      "cell_type": "code",
      "metadata": {
        "id": "_bl1I9BtwIfg"
      },
      "source": [
        "# Importing Keras libraries and packages\n",
        "from keras.models import Sequential\n",
        "from keras.layers import Dense"
      ],
      "execution_count": 50,
      "outputs": []
    },
    {
      "cell_type": "code",
      "metadata": {
        "id": "n3vzJrkFwm0t"
      },
      "source": [
        "# Initialize the ANN\n",
        "classifier = Sequential()"
      ],
      "execution_count": 51,
      "outputs": []
    },
    {
      "cell_type": "code",
      "metadata": {
        "id": "DxOQZFsPwrKB"
      },
      "source": [
        "# Adding the input layer and first hidden layer\n",
        "# input_dim = number of frauds detected\n",
        "classifier.add(Dense(units=2, kernel_initializer='uniform' ,activation='relu', input_dim=15))"
      ],
      "execution_count": 52,
      "outputs": []
    },
    {
      "cell_type": "code",
      "metadata": {
        "id": "h9K8-qcZxELE"
      },
      "source": [
        "# Adding the output layer\n",
        "# for binary classification --> output units = 1\n",
        "classifier.add(Dense(units=1, kernel_initializer='uniform' ,activation='sigmoid'))"
      ],
      "execution_count": 57,
      "outputs": []
    },
    {
      "cell_type": "code",
      "metadata": {
        "id": "Gd6-k6HPxHWm"
      },
      "source": [
        "# Compiling the ANN\n",
        "classifier.compile(optimizer='adam', loss='binary_crossentropy', metrics=['accuracy'])"
      ],
      "execution_count": 58,
      "outputs": []
    },
    {
      "cell_type": "code",
      "metadata": {
        "id": "7pxgg09RxHMx",
        "outputId": "35540cd8-1d8c-4991-aadf-9701de806df9",
        "colab": {
          "base_uri": "https://localhost:8080/",
          "height": 104
        }
      },
      "source": [
        "# Fitting the ANN to the Training set\n",
        "# dataset is very simple and small --> take very less batch_size and epochs\n",
        "classifier.fit(x=customers, y=is_fraud, batch_size=1, epochs=2)"
      ],
      "execution_count": 59,
      "outputs": [
        {
          "output_type": "stream",
          "text": [
            "Epoch 1/2\n",
            "690/690 [==============================] - 1s 896us/step - loss: 0.4174 - accuracy: 0.9623\n",
            "Epoch 2/2\n",
            "690/690 [==============================] - 1s 799us/step - loss: 0.1679 - accuracy: 0.9783\n"
          ],
          "name": "stdout"
        },
        {
          "output_type": "execute_result",
          "data": {
            "text/plain": [
              "<tensorflow.python.keras.callbacks.History at 0x7fa1803bcef0>"
            ]
          },
          "metadata": {
            "tags": []
          },
          "execution_count": 59
        }
      ]
    },
    {
      "cell_type": "code",
      "metadata": {
        "id": "K-6-KhkKxclo"
      },
      "source": [
        "# Predict the probabilities of fraud\n",
        "y_pred = classifier.predict(customers)"
      ],
      "execution_count": 60,
      "outputs": []
    },
    {
      "cell_type": "code",
      "metadata": {
        "id": "DCYpkCVrzS08",
        "outputId": "a3675e10-d294-4505-8064-1900990a0199",
        "colab": {
          "base_uri": "https://localhost:8080/",
          "height": 191
        }
      },
      "source": [
        "y_pred[:10]"
      ],
      "execution_count": 62,
      "outputs": [
        {
          "output_type": "execute_result",
          "data": {
            "text/plain": [
              "array([[0.08031198],\n",
              "       [0.08284116],\n",
              "       [0.08302864],\n",
              "       [0.07992855],\n",
              "       [0.07955208],\n",
              "       [0.07980669],\n",
              "       [0.08176684],\n",
              "       [0.07946557],\n",
              "       [0.08171681],\n",
              "       [0.07956287]], dtype=float32)"
            ]
          },
          "metadata": {
            "tags": []
          },
          "execution_count": 62
        }
      ]
    },
    {
      "cell_type": "code",
      "metadata": {
        "id": "ix_iBnT0zWJ7"
      },
      "source": [
        "# Add 2nd column to y_pred (customer id)\n",
        "# dont do just [:, 0] instead use [:, 0:1] cause we have to make it 2-D array \n",
        "y_pred = np.concatenate((dataset.iloc[:, 0:1].values, y_pred), axis=1)"
      ],
      "execution_count": 63,
      "outputs": []
    },
    {
      "cell_type": "code",
      "metadata": {
        "id": "mOfCwMLd0lT1",
        "outputId": "8df64990-4c31-4d06-c395-f10f9c920f4f",
        "colab": {
          "base_uri": "https://localhost:8080/",
          "height": 191
        }
      },
      "source": [
        "y_pred[:10]"
      ],
      "execution_count": 64,
      "outputs": [
        {
          "output_type": "execute_result",
          "data": {
            "text/plain": [
              "array([[1.57761560e+07, 8.03119838e-02],\n",
              "       [1.57395480e+07, 8.28411579e-02],\n",
              "       [1.56628540e+07, 8.30286443e-02],\n",
              "       [1.56876880e+07, 7.99285471e-02],\n",
              "       [1.57157500e+07, 7.95520842e-02],\n",
              "       [1.55711210e+07, 7.98066854e-02],\n",
              "       [1.57264660e+07, 8.17668438e-02],\n",
              "       [1.56603900e+07, 7.94655681e-02],\n",
              "       [1.56639420e+07, 8.17168057e-02],\n",
              "       [1.56386100e+07, 7.95628726e-02]])"
            ]
          },
          "metadata": {
            "tags": []
          },
          "execution_count": 64
        }
      ]
    },
    {
      "cell_type": "code",
      "metadata": {
        "id": "tVFHuJW-0mgD"
      },
      "source": [
        "# Sort the predicted probabilities (only sort by prob and not by the customer id)\n",
        "y_pred = y_pred[y_pred[:, 1].argsort()]"
      ],
      "execution_count": 65,
      "outputs": []
    },
    {
      "cell_type": "code",
      "metadata": {
        "id": "0rw9fLZX1sQw",
        "outputId": "6a32b5be-58b1-4eda-a273-a4596778b971",
        "colab": {
          "base_uri": "https://localhost:8080/",
          "height": 139
        }
      },
      "source": [
        "y_pred"
      ],
      "execution_count": 68,
      "outputs": [
        {
          "output_type": "execute_result",
          "data": {
            "text/plain": [
              "array([[1.56548590e+07, 7.92261958e-02],\n",
              "       [1.57238270e+07, 7.92278349e-02],\n",
              "       [1.57250280e+07, 7.92375505e-02],\n",
              "       ...,\n",
              "       [1.57160820e+07, 9.06088948e-02],\n",
              "       [1.57523440e+07, 9.14636552e-02],\n",
              "       [1.56114090e+07, 9.18069780e-02]])"
            ]
          },
          "metadata": {
            "tags": []
          },
          "execution_count": 68
        }
      ]
    },
    {
      "cell_type": "code",
      "metadata": {
        "id": "Snp-2Jtz1uTn"
      },
      "source": [
        ""
      ],
      "execution_count": 75,
      "outputs": []
    },
    {
      "cell_type": "code",
      "metadata": {
        "id": "SI2uXDDZ1-57"
      },
      "source": [
        ""
      ],
      "execution_count": null,
      "outputs": []
    }
  ]
}